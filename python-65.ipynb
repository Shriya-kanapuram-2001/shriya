{
 "cells": [
  {
   "cell_type": "markdown",
   "metadata": {},
   "source": [
    "### add digits in the given string"
   ]
  },
  {
   "cell_type": "code",
   "execution_count": 4,
   "metadata": {},
   "outputs": [
    {
     "name": "stdout",
     "output_type": "stream",
     "text": [
      "\n",
      "12\n"
     ]
    }
   ],
   "source": [
    "def printDigitsum(l):\n",
    "    sum=0\n",
    "    lst2=list(l)\n",
    "    for i in range(len(lst2)):\n",
    "        if(ord(lst2[i])>=48 and ord(lst2[i])<=57):\n",
    "            sum=sum+int(lst2[i])\n",
    "    print()\n",
    "    print(sum)\n",
    "l=\"ap21p12g24ndc\"\n",
    "printDigitsum(l)\n",
    "\n",
    "            "
   ]
  },
  {
   "cell_type": "markdown",
   "metadata": {},
   "source": [
    "#### add only even digits"
   ]
  },
  {
   "cell_type": "code",
   "execution_count": 7,
   "metadata": {},
   "outputs": [
    {
     "name": "stdout",
     "output_type": "stream",
     "text": [
      "\n",
      "10\n"
     ]
    }
   ],
   "source": [
    "def printDigitsuml(l):\n",
    "    sum=0\n",
    "    lst3=list(l)\n",
    "    for i in range(len(lst3)):\n",
    "        if(ord(lst3[i])>=48 and ord(lst3[i])<=57):\n",
    "            if(int(lst3[i])%2==0):\n",
    "                \n",
    "                sum=sum+int(lst3[i])\n",
    "    print()\n",
    "    print(sum)\n",
    "l=\"ap21p12g24ndc\"\n",
    "printDigitsuml(l)\n"
   ]
  },
  {
   "cell_type": "code",
   "execution_count": null,
   "metadata": {},
   "outputs": [],
   "source": []
  }
 ],
 "metadata": {
  "kernelspec": {
   "display_name": "Python 3",
   "language": "python",
   "name": "python3"
  },
  "language_info": {
   "codemirror_mode": {
    "name": "ipython",
    "version": 3
   },
   "file_extension": ".py",
   "mimetype": "text/x-python",
   "name": "python",
   "nbconvert_exporter": "python",
   "pygments_lexer": "ipython3",
   "version": "3.7.3"
  }
 },
 "nbformat": 4,
 "nbformat_minor": 2
}
