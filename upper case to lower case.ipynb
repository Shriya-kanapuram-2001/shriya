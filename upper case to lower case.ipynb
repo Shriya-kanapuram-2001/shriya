{
 "cells": [
  {
   "cell_type": "markdown",
   "metadata": {},
   "source": [
    "#### upper case to lower case \n",
    "#### lower case to upper case"
   ]
  },
  {
   "cell_type": "code",
   "execution_count": 5,
   "metadata": {},
   "outputs": [
    {
     "data": {
      "text/plain": [
       "'Application'"
      ]
     },
     "execution_count": 5,
     "metadata": {},
     "output_type": "execute_result"
    }
   ],
   "source": [
    "def specificWord(str,n):\n",
    "    return str\n",
    "specificWord(\"Application\",2)"
   ]
  },
  {
   "cell_type": "code",
   "execution_count": 14,
   "metadata": {},
   "outputs": [
    {
     "name": "stdout",
     "output_type": "stream",
     "text": [
      "aPpLIcATION"
     ]
    }
   ],
   "source": [
    "def caseConversion(str):\n",
    "    lst=list(str)\n",
    "    for x in range(len(lst)):\n",
    "        if ord(lst[x])>=65 and ord(lst[x])<=90:\n",
    "            lst[x]=ord(lst[x])+32\n",
    "            print(chr(lst[x]),end=\"\")\n",
    "        elif ord(lst[x])>=97 and ord(lst[x])<=122:\n",
    "            lst[x]=ord(lst[x])-32\n",
    "            print(chr(lst[x]),end=\"\")\n",
    "caseConversion(\"ApPliCation\",)"
   ]
  },
  {
   "cell_type": "code",
   "execution_count": null,
   "metadata": {},
   "outputs": [],
   "source": []
  }
 ],
 "metadata": {
  "kernelspec": {
   "display_name": "Python 3",
   "language": "python",
   "name": "python3"
  },
  "language_info": {
   "codemirror_mode": {
    "name": "ipython",
    "version": 3
   },
   "file_extension": ".py",
   "mimetype": "text/x-python",
   "name": "python",
   "nbconvert_exporter": "python",
   "pygments_lexer": "ipython3",
   "version": "3.7.3"
  }
 },
 "nbformat": 4,
 "nbformat_minor": 2
}
